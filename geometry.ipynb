{
 "cells": [
  {
   "cell_type": "code",
   "id": "initial_id",
   "metadata": {
    "collapsed": true,
    "ExecuteTime": {
     "end_time": "2025-06-21T07:30:21.224129Z",
     "start_time": "2025-06-21T07:30:21.124209Z"
    }
   },
   "source": "import numpy as np",
   "outputs": [],
   "execution_count": 1
  },
  {
   "metadata": {
    "ExecuteTime": {
     "end_time": "2025-06-21T07:37:07.738946Z",
     "start_time": "2025-06-21T07:37:07.735603Z"
    }
   },
   "cell_type": "code",
   "source": [
    "arr = np.arange(64).reshape(8, 8)\n",
    "arr"
   ],
   "id": "9fd05b9d0ff70f8d",
   "outputs": [
    {
     "data": {
      "text/plain": [
       "array([[ 0,  1,  2,  3,  4,  5,  6,  7],\n",
       "       [ 8,  9, 10, 11, 12, 13, 14, 15],\n",
       "       [16, 17, 18, 19, 20, 21, 22, 23],\n",
       "       [24, 25, 26, 27, 28, 29, 30, 31],\n",
       "       [32, 33, 34, 35, 36, 37, 38, 39],\n",
       "       [40, 41, 42, 43, 44, 45, 46, 47],\n",
       "       [48, 49, 50, 51, 52, 53, 54, 55],\n",
       "       [56, 57, 58, 59, 60, 61, 62, 63]])"
      ]
     },
     "execution_count": 17,
     "metadata": {},
     "output_type": "execute_result"
    }
   ],
   "execution_count": 17
  },
  {
   "metadata": {
    "ExecuteTime": {
     "end_time": "2025-06-21T07:37:08.451823Z",
     "start_time": "2025-06-21T07:37:08.448184Z"
    }
   },
   "cell_type": "code",
   "source": [
    "# produces easy (data, sequence, tensor) grid\n",
    "arr.reshape(4, 2, 4, 2).transpose(0, 2, 1, 3).reshape(4, 4, 4)"
   ],
   "id": "90887f656dc54008",
   "outputs": [
    {
     "data": {
      "text/plain": [
       "array([[[ 0,  1,  8,  9],\n",
       "        [ 2,  3, 10, 11],\n",
       "        [ 4,  5, 12, 13],\n",
       "        [ 6,  7, 14, 15]],\n",
       "\n",
       "       [[16, 17, 24, 25],\n",
       "        [18, 19, 26, 27],\n",
       "        [20, 21, 28, 29],\n",
       "        [22, 23, 30, 31]],\n",
       "\n",
       "       [[32, 33, 40, 41],\n",
       "        [34, 35, 42, 43],\n",
       "        [36, 37, 44, 45],\n",
       "        [38, 39, 46, 47]],\n",
       "\n",
       "       [[48, 49, 56, 57],\n",
       "        [50, 51, 58, 59],\n",
       "        [52, 53, 60, 61],\n",
       "        [54, 55, 62, 63]]])"
      ]
     },
     "execution_count": 18,
     "metadata": {},
     "output_type": "execute_result"
    }
   ],
   "execution_count": 18
  }
 ],
 "metadata": {
  "kernelspec": {
   "display_name": "Python 3",
   "language": "python",
   "name": "python3"
  },
  "language_info": {
   "codemirror_mode": {
    "name": "ipython",
    "version": 2
   },
   "file_extension": ".py",
   "mimetype": "text/x-python",
   "name": "python",
   "nbconvert_exporter": "python",
   "pygments_lexer": "ipython2",
   "version": "2.7.6"
  }
 },
 "nbformat": 4,
 "nbformat_minor": 5
}
